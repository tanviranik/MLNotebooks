{
 "cells": [
  {
   "cell_type": "code",
   "execution_count": 9,
   "metadata": {},
   "outputs": [],
   "source": [
    "import numpy as np\n",
    "import matplotlib.pyplot as plt\n",
    "from sklearn.datasets import load_iris\n",
    "iris=load_iris()\n",
    "data=iris.data\n"
   ]
  },
  {
   "cell_type": "code",
   "execution_count": 45,
   "metadata": {},
   "outputs": [
    {
     "data": {
      "image/png": "[encoded data removed]",
      "text/plain": [
       "<matplotlib.figure.Figure at 0x7f45d85ae750>"
      ]
     },
     "metadata": {},
     "output_type": "display_data"
    }
   ],
   "source": [
    "plt.scatter(data[:,0],data[:,1])\n",
    "plt.scatter(data[:,0],data[:,1])\n",
    "plt.show()"
   ]
  },
  {
   "cell_type": "code",
   "execution_count": 24,
   "metadata": {},
   "outputs": [
    {
     "name": "stdout",
     "output_type": "stream",
     "text": [
      "('Clusters:', array([0, 1]))\n",
      "('Cluster label:', array([1, 1, 1, 1, 1, 1, 1, 1, 1, 1, 1, 1, 1, 1, 1, 1, 1, 1, 1, 1, 1, 1,\n",
      "       1, 1, 1, 1, 1, 1, 1, 1, 1, 1, 1, 1, 1, 1, 1, 1, 1, 1, 1, 1, 1, 1,\n",
      "       1, 1, 1, 1, 1, 1, 0, 0, 0, 0, 0, 0, 0, 0, 0, 0, 0, 0, 0, 0, 0, 0,\n",
      "       0, 0, 0, 0, 0, 0, 0, 0, 0, 0, 0, 0, 0, 0, 0, 0, 0, 0, 0, 0, 0, 0,\n",
      "       0, 0, 0, 0, 0, 0, 0, 0, 0, 0, 0, 0, 0, 0, 0, 0, 0, 0, 0, 0, 0, 0,\n",
      "       0, 0, 0, 0, 0, 0, 0, 0, 0, 0, 0, 0, 0, 0, 0, 0, 0, 0, 0, 0, 0, 0,\n",
      "       0, 0, 0, 0, 0, 0, 0, 0, 0, 0, 0, 0, 0, 0, 0, 0, 0, 0]))\n"
     ]
    }
   ],
   "source": [
    "#Agglomerative clustering on iris dataset\n",
    "from sklearn.cluster import AgglomerativeClustering\n",
    "clustering = AgglomerativeClustering().fit(data)\n",
    "print(\"Clusters:\",np.unique(clustering.labels_))\n",
    "print(\"Cluster label:\",clustering.labels_)\n"
   ]
  },
  {
   "cell_type": "code",
   "execution_count": 17,
   "metadata": {},
   "outputs": [
    {
     "data": {
      "text/plain": [
       "<matplotlib.legend.Legend at 0x7f45d9fca350>"
      ]
     },
     "execution_count": 17,
     "metadata": {},
     "output_type": "execute_result"
    },
    {
     "data": {
      "image/png": "[encoded data removed]",
      "text/plain": [
       "<matplotlib.figure.Figure at 0x7f45da084b90>"
      ]
     },
     "metadata": {},
     "output_type": "display_data"
    }
   ],
   "source": [
    "#plotting cluster\n",
    "plt.scatter(data[:,0][clustering.labels_==0],data[:,1][clustering.labels_==0],color='green')\n",
    "plt.scatter(data[:,0][clustering.labels_==1],data[:,1][clustering.labels_==1],color=\"red\")\n",
    "plt.legend([\"Cluster 0\",\"Cluster 1\"])"
   ]
  },
  {
   "cell_type": "code",
   "execution_count": 22,
   "metadata": {
    "scrolled": true
   },
   "outputs": [
    {
     "name": "stdout",
     "output_type": "stream",
     "text": [
      "Collecting hdbscan\n",
      "\u001b[?25l  Downloading https://files.pythonhosted.org/packages/aa/30/97f3fc4f1f1fdb8f2c77aef720758ea3e8251c43bb092cb0d64bde76fb78/hdbscan-0.8.18.tar.gz (4.0MB)\n",
      "\u001b[K    100% |████████████████████████████████| 4.0MB 1.8MB/s ta 0:00:01\n",
      "\u001b[?25h  Installing build dependencies ... \u001b[?25ldone\n",
      "\u001b[?25hRequirement already satisfied: cython>=0.27 in /home/miraj/anaconda2/lib/python2.7/site-packages (from hdbscan) (0.27.3)\n",
      "Requirement already satisfied: numpy>=1.9 in /home/miraj/.local/lib/python2.7/site-packages (from hdbscan) (1.14.3)\n",
      "Requirement already satisfied: scipy>=0.9 in /home/miraj/.local/lib/python2.7/site-packages (from hdbscan) (1.1.0)\n",
      "Requirement already satisfied: scikit-learn>=0.17 in /home/miraj/.local/lib/python2.7/site-packages (from hdbscan) (0.19.1)\n",
      "Building wheels for collected packages: hdbscan\n",
      "  Running setup.py bdist_wheel for hdbscan ... \u001b[?25ldone\n",
      "\u001b[?25h  Stored in directory: /home/miraj/.cache/pip/wheels/80/6c/bb/80343f12bfe907f9475ae274a59677bec4525104455a6c2554\n",
      "Successfully built hdbscan\n",
      "Installing collected packages: hdbscan\n",
      "Successfully installed hdbscan-0.8.18\n",
      "\u001b[33mYou are using pip version 18.0, however version 18.1 is available.\n",
      "You should consider upgrading via the 'pip install --upgrade pip' command.\u001b[0m\n"
     ]
    }
   ],
   "source": [
    "!pip install hdbscan"
   ]
  },
  {
   "cell_type": "code",
   "execution_count": 48,
   "metadata": {},
   "outputs": [
    {
     "name": "stdout",
     "output_type": "stream",
     "text": [
      "('Clusters:', array([0, 1]))\n",
      "('Cluster label:', array([0, 0, 0, 0, 0, 0, 0, 0, 0, 0, 0, 0, 0, 0, 0, 0, 0, 0, 0, 0, 0, 0,\n",
      "       0, 0, 0, 0, 0, 0, 0, 0, 0, 0, 0, 0, 0, 0, 0, 0, 0, 0, 0, 0, 0, 0,\n",
      "       0, 0, 0, 0, 0, 0, 1, 1, 1, 1, 1, 1, 1, 1, 1, 1, 1, 1, 1, 1, 1, 1,\n",
      "       1, 1, 1, 1, 1, 1, 1, 1, 1, 1, 1, 1, 1, 1, 1, 1, 1, 1, 1, 1, 1, 1,\n",
      "       1, 1, 1, 1, 1, 1, 1, 1, 1, 1, 1, 1, 1, 1, 1, 1, 1, 1, 1, 1, 1, 1,\n",
      "       1, 1, 1, 1, 1, 1, 1, 1, 1, 1, 1, 1, 1, 1, 1, 1, 1, 1, 1, 1, 1, 1,\n",
      "       1, 1, 1, 1, 1, 1, 1, 1, 1, 1, 1, 1, 1, 1, 1, 1, 1, 1]))\n"
     ]
    }
   ],
   "source": [
    "#hdbscan algorithm\n",
    "import hdbscan\n",
    "clustering = hdbscan.HDBSCAN(min_cluster_size=3, gen_min_span_tree=True)\n",
    "clustering.fit(data)\n",
    "print(\"Clusters:\",np.unique(clustering.labels_))\n",
    "print(\"Cluster label:\",clustering.labels_)"
   ]
  },
  {
   "cell_type": "code",
   "execution_count": 27,
   "metadata": {},
   "outputs": [
    {
     "data": {
      "text/plain": [
       "<matplotlib.legend.Legend at 0x7f45d961be10>"
      ]
     },
     "execution_count": 27,
     "metadata": {},
     "output_type": "execute_result"
    },
    {
     "data": {
      "image/png": "[encoded data removed]",
      "text/plain": [
       "<matplotlib.figure.Figure at 0x7f45d964cb90>"
      ]
     },
     "metadata": {},
     "output_type": "display_data"
    }
   ],
   "source": [
    "#plotting hdbscan \n",
    "plt.scatter(data[:,0][clustering.labels_==0],data[:,1][clustering.labels_==0],color='green')\n",
    "plt.scatter(data[:,0][clustering.labels_==1],data[:,1][clustering.labels_==1],color=\"red\")\n",
    "plt.legend([\"Cluster 0\",\"Cluster 1\"])"
   ]
  },
  {
   "cell_type": "code",
   "execution_count": 43,
   "metadata": {},
   "outputs": [
    {
     "name": "stdout",
     "output_type": "stream",
     "text": [
      "('Clusters:', array([0, 1]))\n",
      "('Cluster label:', array([1, 1, 1, 1, 1, 1, 1, 1, 1, 1, 1, 1, 1, 1, 1, 1, 1, 1, 1, 1, 1, 1,\n",
      "       1, 1, 1, 1, 1, 1, 1, 1, 1, 1, 1, 1, 1, 1, 1, 1, 1, 1, 1, 1, 1, 1,\n",
      "       1, 1, 1, 1, 1, 1, 0, 0, 0, 0, 0, 0, 0, 1, 0, 0, 0, 0, 0, 0, 0, 0,\n",
      "       0, 0, 0, 0, 0, 0, 0, 0, 0, 0, 0, 0, 0, 0, 0, 0, 0, 0, 0, 0, 0, 0,\n",
      "       0, 0, 0, 0, 0, 0, 0, 0, 0, 0, 1, 0, 0, 0, 0, 0, 0, 0, 0, 0, 0, 0,\n",
      "       0, 0, 0, 0, 0, 0, 0, 0, 0, 0, 0, 0, 0, 0, 0, 0, 0, 0, 0, 0, 0, 0,\n",
      "       0, 0, 0, 0, 0, 0, 0, 0, 0, 0, 0, 0, 0, 0, 0, 0, 0, 0]))\n"
     ]
    }
   ],
   "source": [
    "#Mean shift algorithm\n",
    "from sklearn.cluster import MeanShift\n",
    "clustering = MeanShift(bandwidth=2).fit(data)\n",
    "print(\"Clusters:\",np.unique(clustering.labels_))\n",
    "print(\"Cluster label:\",clustering.labels_)"
   ]
  },
  {
   "cell_type": "code",
   "execution_count": 29,
   "metadata": {},
   "outputs": [
    {
     "data": {
      "text/plain": [
       "<matplotlib.legend.Legend at 0x7f45d87cf110>"
      ]
     },
     "execution_count": 29,
     "metadata": {},
     "output_type": "execute_result"
    },
    {
     "data": {
      "image/png": "[encoded data removed]",
      "text/plain": [
       "<matplotlib.figure.Figure at 0x7f45d967d290>"
      ]
     },
     "metadata": {},
     "output_type": "display_data"
    }
   ],
   "source": [
    "#plotting mean shift algorithm\n",
    "plt.scatter(data[:,0][clustering.labels_==0],data[:,1][clustering.labels_==0],color='green')\n",
    "plt.scatter(data[:,0][clustering.labels_==1],data[:,1][clustering.labels_==1],color=\"red\")\n",
    "plt.legend([\"Cluster 0\",\"Cluster 1\"])"
   ]
  },
  {
   "cell_type": "code",
   "execution_count": 32,
   "metadata": {},
   "outputs": [
    {
     "name": "stdout",
     "output_type": "stream",
     "text": [
      "('Clusters:', array([0, 1]))\n",
      "('Cluster label:', array([0, 0, 0, 0, 0, 0, 0, 0, 0, 0, 0, 0, 0, 1, 1, 1]))\n"
     ]
    }
   ],
   "source": [
    "#dummy data\n",
    "dummy_data=np.array([1,2,3,4,12,13,14,15,53,54,55,56,57,150,152,153]).reshape(-1,1)\n",
    "\n",
    "clustering = AgglomerativeClustering().fit(dummy_data)\n",
    "print(\"Clusters:\",np.unique(clustering.labels_))\n",
    "print(\"Cluster label:\",clustering.labels_)"
   ]
  },
  {
   "cell_type": "code",
   "execution_count": 39,
   "metadata": {},
   "outputs": [
    {
     "name": "stdout",
     "output_type": "stream",
     "text": [
      "('Clusters:', array([0, 1, 2, 3]))\n",
      "('Cluster label:', array([2, 2, 2, 2, 3, 3, 3, 3, 1, 1, 1, 1, 1, 0, 0, 0]))\n"
     ]
    }
   ],
   "source": [
    "#hdbscan on dummy data\n",
    "clustering = hdbscan.HDBSCAN(min_cluster_size=2, gen_min_span_tree=True)\n",
    "clustering.fit(dummy_data)\n",
    "print(\"Clusters:\",np.unique(clustering.labels_))\n",
    "print(\"Cluster label:\",clustering.labels_)"
   ]
  },
  {
   "cell_type": "code",
   "execution_count": 42,
   "metadata": {},
   "outputs": [
    {
     "name": "stdout",
     "output_type": "stream",
     "text": [
      "('Clusters:', array([0, 1, 2, 3]))\n",
      "('Cluster label:', array([1, 1, 1, 1, 2, 2, 2, 2, 0, 0, 0, 0, 0, 3, 3, 3]))\n"
     ]
    }
   ],
   "source": [
    "#mean shift algorithm \n",
    "clustering = MeanShift(bandwidth=2).fit(dummy_data)\n",
    "print(\"Clusters:\",np.unique(clustering.labels_))\n",
    "print(\"Cluster label:\",clustering.labels_)"
   ]
  },
  {
   "cell_type": "code",
   "execution_count": null,
   "metadata": {},
   "outputs": [],
   "source": []
  }
 ],
 "metadata": {
  "kernelspec": {
   "display_name": "Python 2",
   "language": "python",
   "name": "python2"
  },
  "language_info": {
   "codemirror_mode": {
    "name": "ipython",
    "version": 2
   },
   "file_extension": ".py",
   "mimetype": "text/x-python",
   "name": "python",
   "nbconvert_exporter": "python",
   "pygments_lexer": "ipython2",
   "version": "2.7.14"
  }
 },
 "nbformat": 4,
 "nbformat_minor": 2
}
